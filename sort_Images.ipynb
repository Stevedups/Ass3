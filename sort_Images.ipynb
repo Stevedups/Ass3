{
 "cells": [
  {
   "cell_type": "code",
   "execution_count": null,
   "source": [
    "import os\n",
    "os.environ['TF_CPP_MIN_LOG_LEVEL'] = '2'\n",
    "\n",
    "import tensorflow as tf\n",
    "from tensorflow import keras\n",
    "from tensorflow.keras import layers\n",
    "import PIL\n",
    "import PIL.Image\n",
    "import numpy\n",
    "import pathlib\n",
    "import pandas as pd\n",
    "import shutil\n",
    "import matplotlib.pyplot as plt\n",
    "\n",
    "\n",
    "data_dir = \"Train_Images/\"\n",
    "\n",
    "data_dir = pathlib.Path(data_dir)\n",
    "\n",
    "image_count = len(list(data_dir.glob('*.jpg')))\n",
    "#print(image_count)\n",
    "\n",
    "newpaths = ['Train_Images/fruit_healthy','Train_Images/fruit_brownspot','Train_Images/fruit_woodiness'] \n",
    "for i in range(len(newpaths)):\n",
    "    if not os.path.exists(newpaths[i]):\n",
    "        os.makedirs(newpaths[i])\n",
    "#print(str(imgs[0]))\n",
    "\n",
    "train = pd.read_csv('Train.csv')\n",
    "#print(str(len(train['Image_ID'])))\n",
    "imageNames = []\n",
    "imageClass = []\n",
    "for i in range(len(train['Image_ID'])):\n",
    "    duplicate = False\n",
    "    for j in range(len(imageNames)):\n",
    "        if str(train['Image_ID'][i]+\".jpg\") == str(imageNames[j]):\n",
    "            duplicate = True\n",
    "    if duplicate != True:    \n",
    "        imageNames.append(str(train['Image_ID'][i])+\".jpg\")\n",
    "        print(str(train['Image_ID'][i])+\".jpg\")\n",
    "        imageClass.append(train['class'][i])\n",
    "        \n",
    "count = 0\n",
    "for f in imageNames:\n",
    "    print(str(\"Train_Images/\"+f))\n",
    "    print(str(\"Train_Images/\"+imageClass[count]))\n",
    "    shutil.move(str(\"Train_Images/\"+f), str(\"Train_Images/\"+imageClass[count]))\n",
    "    count = count + 1"
   ],
   "outputs": [],
   "metadata": {}
  }
 ],
 "metadata": {
  "orig_nbformat": 4,
  "language_info": {
   "name": "python"
  }
 },
 "nbformat": 4,
 "nbformat_minor": 2
}